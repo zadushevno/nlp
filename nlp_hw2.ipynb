{
  "cells": [
    {
      "cell_type": "markdown",
      "metadata": {
        "id": "BVOmaoNBHYYZ"
      },
      "source": [
        "# 1. Загрузка файла"
      ]
    },
    {
      "cell_type": "markdown",
      "metadata": {
        "id": "ec7Am_n_Hbjg"
      },
      "source": [
        "Для выполнения задания я скачала с помощью youtube_dl серию \"Смысл жизни\" Смешариков -- она очень подходит под настроение. Устанавливала библиотеку с мастер-ветки, так как некоторые ошибки, появляющиеся при загрузке, исправлены только в ней."
      ]
    },
    {
      "cell_type": "code",
      "execution_count": 1,
      "metadata": {
        "id": "5A0ltnvr9MJ-",
        "colab": {
          "base_uri": "https://localhost:8080/"
        },
        "outputId": "6f154b4a-0258-4757-8bfc-b5c47923d989"
      },
      "outputs": [
        {
          "output_type": "stream",
          "name": "stdout",
          "text": [
            "Collecting youtube_dl\n",
            "  Cloning https://github.com/ytdl-org/youtube-dl.git (to revision master) to /tmp/pip-install-z858p26d/youtube-dl_4d81c373692941d9b37c544f8fa6ed01\n",
            "  Running command git clone --filter=blob:none --quiet https://github.com/ytdl-org/youtube-dl.git /tmp/pip-install-z858p26d/youtube-dl_4d81c373692941d9b37c544f8fa6ed01\n",
            "  Resolved https://github.com/ytdl-org/youtube-dl.git to commit be008e657d79832642e2158557c899249c9e31cd\n",
            "  Preparing metadata (setup.py) ... \u001b[?25l\u001b[?25hdone\n",
            "Building wheels for collected packages: youtube_dl\n",
            "  Building wheel for youtube_dl (setup.py) ... \u001b[?25l\u001b[?25hdone\n",
            "  Created wheel for youtube_dl: filename=youtube_dl-2021.12.17-py2.py3-none-any.whl size=1944011 sha256=5cc06e9df60ca3fdde4b48a9abe48a5dfb183aede5d8c9b95acb08a9c479c403\n",
            "  Stored in directory: /tmp/pip-ephem-wheel-cache-pnks6bxo/wheels/b8/03/62/9c414b89a26da510b0a6d984b0ba74200d591e3d0abfa72aa8\n",
            "Successfully built youtube_dl\n",
            "Installing collected packages: youtube_dl\n",
            "Successfully installed youtube_dl-2021.12.17\n"
          ]
        }
      ],
      "source": [
        "! pip install git+https://github.com/ytdl-org/youtube-dl.git@master#egg=youtube_dl"
      ]
    },
    {
      "cell_type": "code",
      "execution_count": 2,
      "metadata": {
        "colab": {
          "base_uri": "https://localhost:8080/"
        },
        "id": "2ekYRBEt8bbI",
        "outputId": "20b9ffa2-fe03-4cc4-f9b5-ded8d5065b25"
      },
      "outputs": [
        {
          "output_type": "stream",
          "name": "stdout",
          "text": [
            "[youtube] Pjxr08Cw59w: Downloading webpage\n",
            "[youtube] Pjxr08Cw59w: Downloading player d23221b6\n",
            "[info] Writing video subtitles to: Смысл жизни - Смешарики 2D _ Мультфильмы для детей-Pjxr08Cw59w.ru.vtt\n",
            "[dashsegments] Total fragments: 1\n",
            "[download] Destination: Смысл жизни - Смешарики 2D _ Мультфильмы для детей-Pjxr08Cw59w.webm\n",
            "[download] 100% of 6.31MiB in 00:00\n",
            "[ffmpeg] Destination: Смысл жизни - Смешарики 2D _ Мультфильмы для детей-Pjxr08Cw59w.wav\n",
            "Deleting original file Смысл жизни - Смешарики 2D _ Мультфильмы для детей-Pjxr08Cw59w.webm (pass -k to keep)\n",
            "Download Successful!\n"
          ]
        }
      ],
      "source": [
        "import youtube_dl\n",
        "ydl_opts = {\n",
        "'format': 'bestaudio',\n",
        "    'postprocessors': [{\n",
        "        'key': 'FFmpegExtractAudio',\n",
        "        'preferredcodec': 'wav',\n",
        "        'preferredquality': '192',\n",
        "    }],\n",
        "'writesubtitles': True,\n",
        "'writeautomaticsub': True,\n",
        "'subtitlesformat':'best',\n",
        "'subtitleslangs': ['ru']\n",
        "}\n",
        "url = 'https://www.youtube.com/watch?v=Pjxr08Cw59w'\n",
        "with youtube_dl.YoutubeDL(ydl_opts) as ydl:\n",
        "  ydl.download([url])\n",
        "print(\"Download Successful!\")"
      ]
    },
    {
      "cell_type": "markdown",
      "metadata": {
        "id": "vfs7lFvWlXbT"
      },
      "source": [
        "Обрезаю видео:"
      ]
    },
    {
      "cell_type": "code",
      "execution_count": 3,
      "metadata": {
        "id": "X7Cc0W8hTV0J",
        "colab": {
          "base_uri": "https://localhost:8080/"
        },
        "outputId": "7b3b2ee9-f83f-4339-ffc8-a3aeaf5f00ca"
      },
      "outputs": [
        {
          "output_type": "stream",
          "name": "stdout",
          "text": [
            "Collecting pydub\n",
            "  Downloading pydub-0.25.1-py2.py3-none-any.whl (32 kB)\n",
            "Installing collected packages: pydub\n",
            "Successfully installed pydub-0.25.1\n"
          ]
        }
      ],
      "source": [
        "! pip install pydub"
      ]
    },
    {
      "cell_type": "code",
      "execution_count": 4,
      "metadata": {
        "colab": {
          "base_uri": "https://localhost:8080/"
        },
        "id": "sfDC2Wd0Plyh",
        "outputId": "67307e68-78e9-468e-c006-b67305eb274f"
      },
      "outputs": [
        {
          "output_type": "execute_result",
          "data": {
            "text/plain": [
              "<_io.BufferedRandom name='audio.wav'>"
            ]
          },
          "metadata": {},
          "execution_count": 4
        }
      ],
      "source": [
        "from pydub import AudioSegment\n",
        "\n",
        "audio_file = AudioSegment.from_file('Смысл жизни - Смешарики 2D _ Мультфильмы для детей-Pjxr08Cw59w.wav')\n",
        "start_time = 20000\n",
        "end_time = 131000\n",
        "\n",
        "trimmed_audio = audio_file[start_time:end_time]\n",
        "trimmed_audio = trimmed_audio.set_frame_rate(16000)\n",
        "trimmed_audio.export(\"audio.wav\", format=\"wav\")"
      ]
    },
    {
      "cell_type": "markdown",
      "metadata": {
        "id": "iBn_0ut11ztf"
      },
      "source": [
        "Чищу файл с субтитрами и убираю дублирующиеся строки:"
      ]
    },
    {
      "cell_type": "code",
      "execution_count": 1,
      "metadata": {
        "id": "cZ8BFIPaz9lC"
      },
      "outputs": [],
      "source": [
        "import re\n",
        "bad_words = ['-->','</c>']\n",
        "\n",
        "\n",
        "with open('Смысл жизни - Смешарики 2D _ Мультфильмы для детей-Pjxr08Cw59w.ru.vtt', encoding='utf-8') as oldfile, open('youtube_sb.txt', 'w') as newfile:\n",
        "    for line in oldfile:\n",
        "        if not any(bad_word in line for bad_word in bad_words):\n",
        "            newfile.write(line)\n",
        "\n",
        "\n",
        "seen = []\n",
        "with open('youtube_sb.txt') as result:\n",
        "    lines = result.readlines()\n",
        "    for line in lines:\n",
        "      if line not in seen:\n",
        "        seen.append(line)"
      ]
    },
    {
      "cell_type": "code",
      "execution_count": 2,
      "metadata": {
        "id": "hegpWyrk1KSA"
      },
      "outputs": [],
      "source": [
        "seen = [each.strip() for each in seen]\n",
        "youtube_sb = seen[7:30] + [seen[30][:9]]\n",
        "youtube_sb = ' '.join(youtube_sb)"
      ]
    },
    {
      "cell_type": "markdown",
      "metadata": {
        "id": "uiB_GhM7IoCI"
      },
      "source": [
        "# 2. ASR"
      ]
    },
    {
      "cell_type": "code",
      "execution_count": 3,
      "metadata": {
        "id": "F7y4jK0zNoL9"
      },
      "outputs": [],
      "source": [
        "evaluations = {}"
      ]
    },
    {
      "cell_type": "code",
      "execution_count": 4,
      "metadata": {
        "id": "l8hk-FazN81q"
      },
      "outputs": [],
      "source": [
        "evaluations['youtube'] = youtube_sb"
      ]
    },
    {
      "cell_type": "code",
      "execution_count": 5,
      "metadata": {
        "id": "E0R1dyQ9Jsxj"
      },
      "outputs": [],
      "source": [
        "audio_path = 'audio.wav'"
      ]
    },
    {
      "cell_type": "markdown",
      "metadata": {
        "id": "vdqUjtDYIsOU"
      },
      "source": [
        "## 2.1 SpeechRecognition"
      ]
    },
    {
      "cell_type": "code",
      "execution_count": null,
      "metadata": {
        "id": "xdLESKUiD008"
      },
      "outputs": [],
      "source": [
        "!pip install SpeechRecognition"
      ]
    },
    {
      "cell_type": "code",
      "execution_count": null,
      "metadata": {
        "id": "Psy8uLTCD3lO"
      },
      "outputs": [],
      "source": [
        "!pip install git+https://github.com/openai/whisper.git soundfile"
      ]
    },
    {
      "cell_type": "code",
      "execution_count": 6,
      "metadata": {
        "id": "gZ1aHjQbD5iv"
      },
      "outputs": [],
      "source": [
        "import speech_recognition as sr"
      ]
    },
    {
      "cell_type": "code",
      "execution_count": 7,
      "metadata": {
        "id": "brqgwl8ID7S_"
      },
      "outputs": [],
      "source": [
        "r = sr.Recognizer()\n",
        "with sr.AudioFile(audio_path) as source:\n",
        "    audio = r.record(source)"
      ]
    },
    {
      "cell_type": "code",
      "execution_count": 8,
      "metadata": {
        "id": "zocPRadbGeVQ"
      },
      "outputs": [],
      "source": [
        "whisper_sb = r.recognize_whisper(audio)"
      ]
    },
    {
      "cell_type": "code",
      "execution_count": 9,
      "metadata": {
        "id": "NofNnVrKNq-3"
      },
      "outputs": [],
      "source": [
        "evaluations['whisper'] = whisper_sb"
      ]
    },
    {
      "cell_type": "code",
      "execution_count": 10,
      "metadata": {
        "id": "Xr6AFEzdT-ik"
      },
      "outputs": [],
      "source": [
        "google_sb = r.recognize_google(audio, language='ru')"
      ]
    },
    {
      "cell_type": "markdown",
      "metadata": {
        "id": "7Q3fwaJUJn0h"
      },
      "source": [
        "Почему-то весь текст распознать не удалось"
      ]
    },
    {
      "cell_type": "code",
      "execution_count": 11,
      "metadata": {
        "colab": {
          "base_uri": "https://localhost:8080/",
          "height": 70
        },
        "id": "L3fYXVaAVZCy",
        "outputId": "71c98fc0-1622-4af6-e432-8b2bf22b14ed"
      },
      "outputs": [
        {
          "output_type": "execute_result",
          "data": {
            "text/plain": [
              "'Иногда случается что вещи теряют свой смысл Вот смысл окна например чтобы в него смотреть а порой смотришь в него смотреть там нечего ничего интересного или вот какой смысл умываться по утрам чтобы быть бодрым А какой смысл быть по утрам бодрым какой вообще смысл быть по утрам непонятно и непонятно то ли жизнь всегда была бессмысленной а ты просто не замечал этого то ли смысл был но куда-то быть'"
            ],
            "application/vnd.google.colaboratory.intrinsic+json": {
              "type": "string"
            }
          },
          "metadata": {},
          "execution_count": 11
        }
      ],
      "source": [
        "google_sb"
      ]
    },
    {
      "cell_type": "code",
      "execution_count": 12,
      "metadata": {
        "id": "iNTIEkf-N2Nx"
      },
      "outputs": [],
      "source": [
        "evaluations['google'] = google_sb"
      ]
    },
    {
      "cell_type": "markdown",
      "source": [
        "# 2.2 MMS"
      ],
      "metadata": {
        "id": "ULG-KaH6BGbM"
      }
    },
    {
      "cell_type": "markdown",
      "source": [
        "При запуске стандартного API MMS у меня возникали ошибки, поэтому я воспользовалась другим пакетом для работы с MMS: https://github.com/abdeladim-s/easymms\n",
        "\n",
        "Но ошибки все еще возникают, так как пакет работает с CUDA 11, а по дефолту в колабе стоит CUDA 12, поэтому после выполнения ячеек с импортами и установками нужно перезапустить среду"
      ],
      "metadata": {
        "id": "83U4iF2L_zfH"
      }
    },
    {
      "cell_type": "code",
      "source": [
        "import os\n",
        "\n",
        "!apt install ffmpeg\n",
        "!apt install sox\n",
        "!pip install librosa==0.8.0\n",
        "!pip install phonemizer==2.2.1\n",
        "!pip install -U --pre torchaudio --index-url https://download.pytorch.org/whl/nightly/cu118\n",
        "!pip install git+https://github.com/abdeladim-s/easymms\n",
        "import locale\n",
        "locale.getpreferredencoding = lambda: \"UTF-8\""
      ],
      "metadata": {
        "id": "SAL0QWAJ_0wn"
      },
      "execution_count": null,
      "outputs": []
    },
    {
      "cell_type": "code",
      "source": [
        "# @title Download Model { display-mode: \"form\" }\n",
        "\n",
        "model = 'mms1b_fl102' #@param [\"mms1b_fl102\", \"mms1b_l1107\", \"mms1b_all\"] {allow-input: true}\n",
        "\n",
        "if model == \"mms1b_fl102\":\n",
        "  !wget -P ./models 'https://dl.fbaipublicfiles.com/mms/asr/mms1b_fl102.pt'\n",
        "\n",
        "elif model == \"mms1b_l1107\":\n",
        "  !wget -P ./models 'https://dl.fbaipublicfiles.com/mms/asr/mms1b_l1107.pt'\n",
        "\n",
        "elif model == \"mms1b_all\":\n",
        "  !wget -P ./models 'https://dl.fbaipublicfiles.com/mms/asr/mms1b_all.pt'"
      ],
      "metadata": {
        "colab": {
          "base_uri": "https://localhost:8080/"
        },
        "id": "WJyk9S4__9Sa",
        "outputId": "702bc24f-d37f-48f8-c4b7-359478bdde41"
      },
      "execution_count": 20,
      "outputs": [
        {
          "output_type": "stream",
          "name": "stdout",
          "text": [
            "--2023-12-18 23:16:38--  https://dl.fbaipublicfiles.com/mms/asr/mms1b_fl102.pt\n",
            "Resolving dl.fbaipublicfiles.com (dl.fbaipublicfiles.com)... 3.163.189.108, 3.163.189.96, 3.163.189.14, ...\n",
            "Connecting to dl.fbaipublicfiles.com (dl.fbaipublicfiles.com)|3.163.189.108|:443... connected.\n",
            "HTTP request sent, awaiting response... 200 OK\n",
            "Length: 4851043301 (4.5G) [binary/octet-stream]\n",
            "Saving to: ‘./models/mms1b_fl102.pt’\n",
            "\n",
            "mms1b_fl102.pt      100%[===================>]   4.52G   206MB/s    in 29s     \n",
            "\n",
            "2023-12-18 23:17:07 (158 MB/s) - ‘./models/mms1b_fl102.pt’ saved [4851043301/4851043301]\n",
            "\n"
          ]
        }
      ]
    },
    {
      "cell_type": "code",
      "source": [
        "files = [f'/content/{audio_path}']"
      ],
      "metadata": {
        "id": "cWyxv0PCAARY"
      },
      "execution_count": 13,
      "outputs": []
    },
    {
      "cell_type": "code",
      "source": [
        "from easymms.models.asr import ASRModel"
      ],
      "metadata": {
        "id": "JVmEJpxEAHlG"
      },
      "execution_count": 14,
      "outputs": []
    },
    {
      "cell_type": "code",
      "source": [
        "asr = ASRModel(model='/content/models/mms1b_fl102.pt')\n",
        "\n",
        "transcriptions = asr.transcribe(files, lang='rus', align=False)"
      ],
      "metadata": {
        "id": "11r91ibXH_yw"
      },
      "execution_count": null,
      "outputs": []
    },
    {
      "cell_type": "code",
      "source": [
        "mms_sb = transcriptions[0]"
      ],
      "metadata": {
        "id": "hWL_kQqRCdMJ"
      },
      "execution_count": 16,
      "outputs": []
    },
    {
      "cell_type": "code",
      "source": [
        "evaluations['mms'] = mms_sb"
      ],
      "metadata": {
        "id": "ef6etAJGC6PS"
      },
      "execution_count": 17,
      "outputs": []
    },
    {
      "cell_type": "markdown",
      "source": [
        "Чекпойнт, потому что на этом месте обычно заканчивается ОЗУ в колабе"
      ],
      "metadata": {
        "id": "ERt8MnKXLinG"
      }
    },
    {
      "cell_type": "code",
      "source": [
        "import json"
      ],
      "metadata": {
        "id": "4zmhBWlTLtZv"
      },
      "execution_count": 18,
      "outputs": []
    },
    {
      "cell_type": "code",
      "source": [
        "with open(\"evaluations.json\", \"w\", encoding='utf-8') as outfile:\n",
        "    json.dump(evaluations, outfile, ensure_ascii=False, indent='\\t')"
      ],
      "metadata": {
        "id": "q5l0_5DoLiPZ"
      },
      "execution_count": 23,
      "outputs": []
    },
    {
      "cell_type": "markdown",
      "metadata": {
        "id": "q7i0Ua0SgGRH"
      },
      "source": [
        "# 2.3 Transformers"
      ]
    },
    {
      "cell_type": "code",
      "execution_count": null,
      "metadata": {
        "id": "i9lQEwpxXZFR"
      },
      "outputs": [],
      "source": [
        "!pip install huggingsound"
      ]
    },
    {
      "cell_type": "markdown",
      "source": [
        "Модель, которую я использовала: https://huggingface.co/jonatasgrosman/wav2vec2-large-xlsr-53-russian"
      ],
      "metadata": {
        "id": "iHV10HcTGOo-"
      }
    },
    {
      "cell_type": "code",
      "execution_count": 2,
      "metadata": {
        "colab": {
          "base_uri": "https://localhost:8080/"
        },
        "id": "DFoE4tdNXURg",
        "outputId": "b87cdd70-b30f-46a8-dacb-62057a2f7420"
      },
      "outputs": [
        {
          "output_type": "stream",
          "name": "stderr",
          "text": [
            "INFO:huggingsound.speech_recognition.model:Loading model...\n"
          ]
        }
      ],
      "source": [
        "from huggingsound import SpeechRecognitionModel\n",
        "\n",
        "model = SpeechRecognitionModel(\"jonatasgrosman/wav2vec2-large-xlsr-53-russian\")\n"
      ]
    },
    {
      "cell_type": "code",
      "execution_count": 4,
      "metadata": {
        "colab": {
          "base_uri": "https://localhost:8080/"
        },
        "id": "Q6ODwd5lYETk",
        "outputId": "683450c2-b2f4-4ac5-f00a-997cdb8366cd"
      },
      "outputs": [
        {
          "output_type": "stream",
          "name": "stderr",
          "text": [
            "100%|██████████| 1/1 [05:10<00:00, 310.13s/it]\n"
          ]
        }
      ],
      "source": [
        "transcriptions = model.transcribe(['audio.wav'])"
      ]
    },
    {
      "cell_type": "code",
      "source": [
        "import json"
      ],
      "metadata": {
        "id": "TCZnPfIbRBR4"
      },
      "execution_count": 7,
      "outputs": []
    },
    {
      "cell_type": "code",
      "source": [
        "with open('evaluations.json', 'r', encoding='utf-8') as f:\n",
        "    evaluations = json.load(f)"
      ],
      "metadata": {
        "id": "HfFQ9Op0Qvtj"
      },
      "execution_count": 8,
      "outputs": []
    },
    {
      "cell_type": "code",
      "source": [
        "evaluations['wav2vec'] = transcriptions[0]['transcription']"
      ],
      "metadata": {
        "id": "B-B8PIcgKpV5"
      },
      "execution_count": 10,
      "outputs": []
    },
    {
      "cell_type": "code",
      "source": [
        "with open(\"evaluations.json\", \"w\", encoding='utf-8') as outfile:\n",
        "    json.dump(evaluations, outfile, ensure_ascii=False, indent='\\t')"
      ],
      "metadata": {
        "id": "9tXK7rzuSMpN"
      },
      "execution_count": 11,
      "outputs": []
    },
    {
      "cell_type": "markdown",
      "metadata": {
        "id": "8NJ0EGf8Ksk-"
      },
      "source": [
        "# 3. Оценка"
      ]
    },
    {
      "cell_type": "code",
      "execution_count": null,
      "metadata": {
        "id": "z5QmoBMzyWG-"
      },
      "outputs": [],
      "source": [
        "!pip install evaluate jiwer"
      ]
    },
    {
      "cell_type": "code",
      "execution_count": 12,
      "metadata": {
        "id": "2tDSjBWkvylb"
      },
      "outputs": [],
      "source": [
        "gold_sb = '''Иногда случается, что вещи теряют свой смысл. Вот смысл окна, например, чтобы в него смотреть. А порой смотришь в него, а смотреть там нечего. Ничего интересного. Или вот, какой смысл умываться по утрам? Чтобы быть бодрым? А какой смысл быть по утрам бодрым? Какой вообще смысл быть по утрам? Непонятно. И непонятно, то ли жизнь всегда была бессмысленной, а ты просто не замечал этого, то ли смысл был, но куда-то затерялся. Не лежи на снегу, простудишься. Ну и что. А смысл не простуживаться? Чтобы не болеть. А смысл не болеть?  Чтобы быть здоровым. А смысл быть здоровым? Чудак! Тебе что, не нравится быть здоровым? Причем здесь нравится или не нравится. Я не хочу быть бессмысленно здоровым. Ай, тебе нужен смысл? Да. Во всем во всем? Неплохо бы. Тогда тебе нужна кузинатра. Какая еще кузинатра? Кузинатра, дающая смысл. Да, она мне нужна. Но где ее искать? Это очень далеко. За смыслом хоть на край света. Веди меня.'''"
      ]
    },
    {
      "cell_type": "code",
      "execution_count": 15,
      "metadata": {
        "id": "0oNdH2bryJiH",
        "colab": {
          "base_uri": "https://localhost:8080/",
          "height": 49,
          "referenced_widgets": [
            "e69b97b995df4ef8a32d22203770acf2",
            "81dd2497350f4c5f98fde7e66a280d64",
            "0d2acd1b62984321b94a0e2858d21013",
            "0c061595fea5409e8e7f33a416dd7cb3",
            "959cf4dde2b04573a0abc38c3f8b29a4",
            "b99c50ce637c4279b0d9d9ab621ddbec",
            "310351470dd64e4a9e545b52e784adc7",
            "43401302f6574e88ab4bd6136fdf9929",
            "823165940a704016b240e2354edc1fc2",
            "e84e76644fe1483c890b03b9b3a8142b",
            "cfc0155041ab4728ba35c33584375553"
          ]
        },
        "outputId": "e8a5fc5d-8770-4bb3-ad1e-b30da804806c"
      },
      "outputs": [
        {
          "output_type": "display_data",
          "data": {
            "text/plain": [
              "Downloading builder script:   0%|          | 0.00/4.49k [00:00<?, ?B/s]"
            ],
            "application/vnd.jupyter.widget-view+json": {
              "version_major": 2,
              "version_minor": 0,
              "model_id": "e69b97b995df4ef8a32d22203770acf2"
            }
          },
          "metadata": {}
        }
      ],
      "source": [
        "from evaluate import load\n",
        "wer = load(\"wer\")"
      ]
    },
    {
      "cell_type": "markdown",
      "source": [
        "Лучший результат показала Whisper, остальные справились значительно хуже. Основная проблема, как мне кажется, в орфографическом отображении звучащего текста -- фонетически полученный транслит верен, но записан он неправильно."
      ],
      "metadata": {
        "id": "IEn5ve7fTbvA"
      }
    },
    {
      "cell_type": "code",
      "execution_count": 24,
      "metadata": {
        "colab": {
          "base_uri": "https://localhost:8080/"
        },
        "id": "3vQQAeGzOOqr",
        "outputId": "f1df6f85-74c7-45ae-bbd8-cdbebdfb0fdc"
      },
      "outputs": [
        {
          "output_type": "stream",
          "name": "stdout",
          "text": [
            "Система ASR: youtube\n",
            "WER: 0.6025641025641025\n",
            "Распознанный текст:\n",
            "иногда случается что вещи теряют свой смысл вот смысл окна например чтобы в него смотреть а порой смотришь в него или вот какой смысл умываться по утрам чтобы быть бодрым а какой смысл быть по утрам бодром какой вообще смысл быть по утра не понятно и не понятно то ли жизнь всегда была бессмысленный а ты просто не замечал этого не лежи на снегу простудишься но изд-во а смысл не прослушивается чтобы не болеть а смысл нибали чтобы быть здоровым ёлки-иголки а смысл быть здоровым чудак тебе что не нравится быть здоровым причем здесь нравится или не нравится я не хочу быть бессмысленно здоровым тебе нужен смысл да во всем во всем неплохо бы тогда тебе нужно кузина то кузина продающие смыслу да она мне нужно многое риска это очень за смыслом на кости идеи меня\n",
            "\n",
            "\n",
            "Система ASR: whisper\n",
            "WER: 0.20512820512820512\n",
            "Распознанный текст:\n",
            " Иногда случается, что вещи теряют свой смысл. Вот смысл окна, например, чтобы в него смотреть, а порой смотришь в него, смотреть там. Ничего. Ничего интересного. Или вот какой смысл умываться по утрам, чтобы быть бодрым, а какой смысл быть по утрам бодрым? Какой вообще смысл быть по утрам? Непонятно. И непонятно, то ли жизнь всегда была бессмысленной, а ты просто не замечал этого, то ли смысл был, но куда-то затиряться. Не лежи на снегу, простудишься. Ну и что? А смысл не прослуживаться. Чтобы не болеть. А смысл не болей. Чтобы быть здоровым, мелкий голкий. А смысл быть здоровым. Чудак, тебе что, не нравится быть здоровым? Причем здесь нравится или не нравится? Я не хочу быть бессмысленным, здоровым. Тебе нужен смысл? Да. Во всем во всем. Не плохо бы. Тогда тебе нужно кузинатором. Какая еще кузинатора? Кузинатор, дающая смысл. Да, она мне нужна. Но где ее искать? Это очень далеко. За смыслом хоть на красть света. Веди меня.\n",
            "\n",
            "\n",
            "Система ASR: google\n",
            "WER: 0.7051282051282052\n",
            "Распознанный текст:\n",
            "Иногда случается что вещи теряют свой смысл Вот смысл окна например чтобы в него смотреть а порой смотришь в него смотреть там нечего ничего интересного или вот какой смысл умываться по утрам чтобы быть бодрым А какой смысл быть по утрам бодрым какой вообще смысл быть по утрам непонятно и непонятно то ли жизнь всегда была бессмысленной а ты просто не замечал этого то ли смысл был но куда-то быть\n",
            "\n",
            "\n",
            "Система ASR: mms\n",
            "WER: 0.8141025641025641\n",
            "Распознанный текст:\n",
            "иногда случается что весь четеряют свой смысл вот смысл окна например чтобы в него смотреть а порой мччоесили вот какой смысл умываться поутрам чтобы быть бодрым а какой смысл быть поутрам бодрым какой вобще и не понятно то-ли жизнь всегда было бессмысленной о ты просто не замечал этого толисмсблнокдаккатерятсячтобы не болеть а смысл не болеть чтобы быть здоровым елкий голки ьдчут тактебе что не равится быть здоровым причем здесьавится ненаитя и хочу бытьсмдтебенунсмслдякузенатра дающее смыслденунаногде е ктсмысле на край цвята ведей меня\n",
            "\n",
            "\n",
            "Система ASR: wav2vec\n",
            "WER: 0.6282051282051282\n",
            "Распознанный текст:\n",
            "иногда случается что вещи теряют свой смысл вот смысл окна например чтобы в него смотреть а порой смотришь в него смотреть там нечего ничего интересны а или вот какой смысл умываться по утрам чтобы быть ботрым  а какой сысл быть утром будрым какой вообще смысл быть путро не поня и непонятно толь жизни всегда была бессмысленный а ты просто не замечал этого то ли смысл был но татать затерялся нележи на снегу простучишься но и чтво а смысл не простуживаться  чтобы не болеть асмысл не боли чтобы быть здоровым  илкие голки а смысл быть здоровым  чудда тебе что не нравится быть здоровым  причем здесь нрвится или не нравится я не хочу быть бессмысленно здоровы  э тебе нужен смысл да во всем во всем неплохо бы  тогда тебе нужна кузинатоэкуй нечу кузиукузинатра дающия смысл  да онам не нужна но где я ескате это очень далеку  засмыслым ка накрастьятовиди меня\n",
            "\n",
            "\n"
          ]
        }
      ],
      "source": [
        "for key, value in evaluations.items():\n",
        "  wer_score = wer.compute(predictions=[value], references=[gold_sb]) #wer от huggingface не учитывает знаки препинания, поэтому не убирала их\n",
        "  print(f\"Система ASR: {key}\", f\"WER: {wer_score}\", \"Распознанный текст:\", sep='\\n')\n",
        "  print(value)\n",
        "  print('\\n')"
      ]
    }
  ],
  "metadata": {
    "accelerator": "GPU",
    "colab": {
      "provenance": [],
      "gpuType": "T4"
    },
    "kernelspec": {
      "display_name": "Python 3",
      "name": "python3"
    },
    "language_info": {
      "name": "python"
    },
    "widgets": {
      "application/vnd.jupyter.widget-state+json": {
        "e69b97b995df4ef8a32d22203770acf2": {
          "model_module": "@jupyter-widgets/controls",
          "model_name": "HBoxModel",
          "model_module_version": "1.5.0",
          "state": {
            "_dom_classes": [],
            "_model_module": "@jupyter-widgets/controls",
            "_model_module_version": "1.5.0",
            "_model_name": "HBoxModel",
            "_view_count": null,
            "_view_module": "@jupyter-widgets/controls",
            "_view_module_version": "1.5.0",
            "_view_name": "HBoxView",
            "box_style": "",
            "children": [
              "IPY_MODEL_81dd2497350f4c5f98fde7e66a280d64",
              "IPY_MODEL_0d2acd1b62984321b94a0e2858d21013",
              "IPY_MODEL_0c061595fea5409e8e7f33a416dd7cb3"
            ],
            "layout": "IPY_MODEL_959cf4dde2b04573a0abc38c3f8b29a4"
          }
        },
        "81dd2497350f4c5f98fde7e66a280d64": {
          "model_module": "@jupyter-widgets/controls",
          "model_name": "HTMLModel",
          "model_module_version": "1.5.0",
          "state": {
            "_dom_classes": [],
            "_model_module": "@jupyter-widgets/controls",
            "_model_module_version": "1.5.0",
            "_model_name": "HTMLModel",
            "_view_count": null,
            "_view_module": "@jupyter-widgets/controls",
            "_view_module_version": "1.5.0",
            "_view_name": "HTMLView",
            "description": "",
            "description_tooltip": null,
            "layout": "IPY_MODEL_b99c50ce637c4279b0d9d9ab621ddbec",
            "placeholder": "​",
            "style": "IPY_MODEL_310351470dd64e4a9e545b52e784adc7",
            "value": "Downloading builder script: 100%"
          }
        },
        "0d2acd1b62984321b94a0e2858d21013": {
          "model_module": "@jupyter-widgets/controls",
          "model_name": "FloatProgressModel",
          "model_module_version": "1.5.0",
          "state": {
            "_dom_classes": [],
            "_model_module": "@jupyter-widgets/controls",
            "_model_module_version": "1.5.0",
            "_model_name": "FloatProgressModel",
            "_view_count": null,
            "_view_module": "@jupyter-widgets/controls",
            "_view_module_version": "1.5.0",
            "_view_name": "ProgressView",
            "bar_style": "success",
            "description": "",
            "description_tooltip": null,
            "layout": "IPY_MODEL_43401302f6574e88ab4bd6136fdf9929",
            "max": 4485,
            "min": 0,
            "orientation": "horizontal",
            "style": "IPY_MODEL_823165940a704016b240e2354edc1fc2",
            "value": 4485
          }
        },
        "0c061595fea5409e8e7f33a416dd7cb3": {
          "model_module": "@jupyter-widgets/controls",
          "model_name": "HTMLModel",
          "model_module_version": "1.5.0",
          "state": {
            "_dom_classes": [],
            "_model_module": "@jupyter-widgets/controls",
            "_model_module_version": "1.5.0",
            "_model_name": "HTMLModel",
            "_view_count": null,
            "_view_module": "@jupyter-widgets/controls",
            "_view_module_version": "1.5.0",
            "_view_name": "HTMLView",
            "description": "",
            "description_tooltip": null,
            "layout": "IPY_MODEL_e84e76644fe1483c890b03b9b3a8142b",
            "placeholder": "​",
            "style": "IPY_MODEL_cfc0155041ab4728ba35c33584375553",
            "value": " 4.49k/4.49k [00:00&lt;00:00, 158kB/s]"
          }
        },
        "959cf4dde2b04573a0abc38c3f8b29a4": {
          "model_module": "@jupyter-widgets/base",
          "model_name": "LayoutModel",
          "model_module_version": "1.2.0",
          "state": {
            "_model_module": "@jupyter-widgets/base",
            "_model_module_version": "1.2.0",
            "_model_name": "LayoutModel",
            "_view_count": null,
            "_view_module": "@jupyter-widgets/base",
            "_view_module_version": "1.2.0",
            "_view_name": "LayoutView",
            "align_content": null,
            "align_items": null,
            "align_self": null,
            "border": null,
            "bottom": null,
            "display": null,
            "flex": null,
            "flex_flow": null,
            "grid_area": null,
            "grid_auto_columns": null,
            "grid_auto_flow": null,
            "grid_auto_rows": null,
            "grid_column": null,
            "grid_gap": null,
            "grid_row": null,
            "grid_template_areas": null,
            "grid_template_columns": null,
            "grid_template_rows": null,
            "height": null,
            "justify_content": null,
            "justify_items": null,
            "left": null,
            "margin": null,
            "max_height": null,
            "max_width": null,
            "min_height": null,
            "min_width": null,
            "object_fit": null,
            "object_position": null,
            "order": null,
            "overflow": null,
            "overflow_x": null,
            "overflow_y": null,
            "padding": null,
            "right": null,
            "top": null,
            "visibility": null,
            "width": null
          }
        },
        "b99c50ce637c4279b0d9d9ab621ddbec": {
          "model_module": "@jupyter-widgets/base",
          "model_name": "LayoutModel",
          "model_module_version": "1.2.0",
          "state": {
            "_model_module": "@jupyter-widgets/base",
            "_model_module_version": "1.2.0",
            "_model_name": "LayoutModel",
            "_view_count": null,
            "_view_module": "@jupyter-widgets/base",
            "_view_module_version": "1.2.0",
            "_view_name": "LayoutView",
            "align_content": null,
            "align_items": null,
            "align_self": null,
            "border": null,
            "bottom": null,
            "display": null,
            "flex": null,
            "flex_flow": null,
            "grid_area": null,
            "grid_auto_columns": null,
            "grid_auto_flow": null,
            "grid_auto_rows": null,
            "grid_column": null,
            "grid_gap": null,
            "grid_row": null,
            "grid_template_areas": null,
            "grid_template_columns": null,
            "grid_template_rows": null,
            "height": null,
            "justify_content": null,
            "justify_items": null,
            "left": null,
            "margin": null,
            "max_height": null,
            "max_width": null,
            "min_height": null,
            "min_width": null,
            "object_fit": null,
            "object_position": null,
            "order": null,
            "overflow": null,
            "overflow_x": null,
            "overflow_y": null,
            "padding": null,
            "right": null,
            "top": null,
            "visibility": null,
            "width": null
          }
        },
        "310351470dd64e4a9e545b52e784adc7": {
          "model_module": "@jupyter-widgets/controls",
          "model_name": "DescriptionStyleModel",
          "model_module_version": "1.5.0",
          "state": {
            "_model_module": "@jupyter-widgets/controls",
            "_model_module_version": "1.5.0",
            "_model_name": "DescriptionStyleModel",
            "_view_count": null,
            "_view_module": "@jupyter-widgets/base",
            "_view_module_version": "1.2.0",
            "_view_name": "StyleView",
            "description_width": ""
          }
        },
        "43401302f6574e88ab4bd6136fdf9929": {
          "model_module": "@jupyter-widgets/base",
          "model_name": "LayoutModel",
          "model_module_version": "1.2.0",
          "state": {
            "_model_module": "@jupyter-widgets/base",
            "_model_module_version": "1.2.0",
            "_model_name": "LayoutModel",
            "_view_count": null,
            "_view_module": "@jupyter-widgets/base",
            "_view_module_version": "1.2.0",
            "_view_name": "LayoutView",
            "align_content": null,
            "align_items": null,
            "align_self": null,
            "border": null,
            "bottom": null,
            "display": null,
            "flex": null,
            "flex_flow": null,
            "grid_area": null,
            "grid_auto_columns": null,
            "grid_auto_flow": null,
            "grid_auto_rows": null,
            "grid_column": null,
            "grid_gap": null,
            "grid_row": null,
            "grid_template_areas": null,
            "grid_template_columns": null,
            "grid_template_rows": null,
            "height": null,
            "justify_content": null,
            "justify_items": null,
            "left": null,
            "margin": null,
            "max_height": null,
            "max_width": null,
            "min_height": null,
            "min_width": null,
            "object_fit": null,
            "object_position": null,
            "order": null,
            "overflow": null,
            "overflow_x": null,
            "overflow_y": null,
            "padding": null,
            "right": null,
            "top": null,
            "visibility": null,
            "width": null
          }
        },
        "823165940a704016b240e2354edc1fc2": {
          "model_module": "@jupyter-widgets/controls",
          "model_name": "ProgressStyleModel",
          "model_module_version": "1.5.0",
          "state": {
            "_model_module": "@jupyter-widgets/controls",
            "_model_module_version": "1.5.0",
            "_model_name": "ProgressStyleModel",
            "_view_count": null,
            "_view_module": "@jupyter-widgets/base",
            "_view_module_version": "1.2.0",
            "_view_name": "StyleView",
            "bar_color": null,
            "description_width": ""
          }
        },
        "e84e76644fe1483c890b03b9b3a8142b": {
          "model_module": "@jupyter-widgets/base",
          "model_name": "LayoutModel",
          "model_module_version": "1.2.0",
          "state": {
            "_model_module": "@jupyter-widgets/base",
            "_model_module_version": "1.2.0",
            "_model_name": "LayoutModel",
            "_view_count": null,
            "_view_module": "@jupyter-widgets/base",
            "_view_module_version": "1.2.0",
            "_view_name": "LayoutView",
            "align_content": null,
            "align_items": null,
            "align_self": null,
            "border": null,
            "bottom": null,
            "display": null,
            "flex": null,
            "flex_flow": null,
            "grid_area": null,
            "grid_auto_columns": null,
            "grid_auto_flow": null,
            "grid_auto_rows": null,
            "grid_column": null,
            "grid_gap": null,
            "grid_row": null,
            "grid_template_areas": null,
            "grid_template_columns": null,
            "grid_template_rows": null,
            "height": null,
            "justify_content": null,
            "justify_items": null,
            "left": null,
            "margin": null,
            "max_height": null,
            "max_width": null,
            "min_height": null,
            "min_width": null,
            "object_fit": null,
            "object_position": null,
            "order": null,
            "overflow": null,
            "overflow_x": null,
            "overflow_y": null,
            "padding": null,
            "right": null,
            "top": null,
            "visibility": null,
            "width": null
          }
        },
        "cfc0155041ab4728ba35c33584375553": {
          "model_module": "@jupyter-widgets/controls",
          "model_name": "DescriptionStyleModel",
          "model_module_version": "1.5.0",
          "state": {
            "_model_module": "@jupyter-widgets/controls",
            "_model_module_version": "1.5.0",
            "_model_name": "DescriptionStyleModel",
            "_view_count": null,
            "_view_module": "@jupyter-widgets/base",
            "_view_module_version": "1.2.0",
            "_view_name": "StyleView",
            "description_width": ""
          }
        }
      }
    }
  },
  "nbformat": 4,
  "nbformat_minor": 0
}